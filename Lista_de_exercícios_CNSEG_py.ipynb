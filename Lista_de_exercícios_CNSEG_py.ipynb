{
  "nbformat": 4,
  "nbformat_minor": 0,
  "metadata": {
    "colab": {
      "provenance": [],
      "authorship_tag": "ABX9TyOstHAGRGs8Qd4J8xF92Qzl",
      "include_colab_link": true
    },
    "kernelspec": {
      "name": "python3",
      "display_name": "Python 3"
    },
    "language_info": {
      "name": "python"
    }
  },
  "cells": [
    {
      "cell_type": "markdown",
      "metadata": {
        "id": "view-in-github",
        "colab_type": "text"
      },
      "source": [
        "<a href=\"https://colab.research.google.com/github/pevehdev/lista-de-exercicios/blob/main/Lista_de_exerc%C3%ADcios_CNSEG_py.ipynb\" target=\"_parent\"><img src=\"https://colab.research.google.com/assets/colab-badge.svg\" alt=\"Open In Colab\"/></a>"
      ]
    },
    {
      "cell_type": "code",
      "execution_count": null,
      "metadata": {
        "id": "sEkGBcfjFJLa"
      },
      "outputs": [],
      "source": []
    },
    {
      "cell_type": "markdown",
      "source": [
        "EXERCÍCIO 1:\n",
        "\n",
        "O que é para fazer:\n",
        "\n",
        "Escreva um programa em Python que calcule quantos salários mínimos um servidor ganha com base no seu salário recebedido em uma empresa.\n",
        "\n",
        "Como Fazer:\n",
        "\n",
        "Crie as variáveis que o armazene os dados;\n",
        "Crie os inputs de armazenamento para o usuário;\n",
        "Realize o cálculo matemático em outra variável;\n",
        "Imprima o valor para o usuário.\n"
      ],
      "metadata": {
        "id": "F8R9mDbkAbCE"
      }
    },
    {
      "cell_type": "code",
      "source": [
        "#Aqui é uma convenção onde deixamos em maiúsculo uma variável para ser uma constante.\n",
        "SALARIO_MINIMO = 1415\n",
        "\n",
        "# Define uma função para calcular a quantidade de salários mínimos\n",
        "def calcular_quantidade_salarios(salario_funcionario):\n",
        "    return salario_funcionario / SALARIO_MINIMO\n",
        "\n",
        "print('*********CALCULO DE QUANTIDADE DE SALARIO MÍNIMO***********')\n",
        "\n",
        "#Entrada de dados do usuário\n",
        "nome_funcionario = input('Informe o seu nome: ')\n",
        "\n",
        "\n",
        "try:\n",
        "  # Verifica se o salário é negativo e levanta uma exceção ValueError em caso afirmativo\n",
        "    salario_funcionario = float(input('Digite seu salário mensal: '))\n",
        "    if salario_funcionario < 0:\n",
        "        print(\"O salário não pode ser negativo.\")\n",
        "except ValueError as ve:\n",
        "  #caso o usuario tenha digitado outro dado sem ser numero, entra nessa exceção\n",
        "    print(\"Valor do salário inválido. Por favor, insira um número válido.\")\n",
        "else:\n",
        "  #aqui chama a função para calcular a qtd de salario mínimo\n",
        "    qtd_salario_minimo = calcular_quantidade_salarios(salario_funcionario)\n",
        "    print(f'Ola {nome_funcionario}, você recebe um total de: {qtd_salario_minimo:.1f} Salários mínimos')\n"
      ],
      "metadata": {
        "id": "ppFDqnnuNbUI"
      },
      "execution_count": null,
      "outputs": []
    },
    {
      "cell_type": "markdown",
      "source": [
        "EXERCÍCIO 2 - É MÚLTIPLO?\n",
        "\n",
        "Temas: Entrada de dados, Operadores lógicos, Estruturas condicionais, Python, Saída de dados\n",
        "\n",
        "Classificação: Iniciante\n",
        "\n",
        "O que é para fazer:\n",
        "\n",
        "Escreva um programa que informe ao usuário se um número é ou não um múltiplo de 5.\n",
        "\n",
        "Como Fazer:\n",
        "\n",
        "Crie uma variável que armazene o número digitado pelo usuário;\n",
        "Faça a verificação com uma condicional realizando o cálculo necessário;\n",
        "Coloque as saídas de impressão dentro dessa condição."
      ],
      "metadata": {
        "id": "kyUGCOE0BKjB"
      }
    },
    {
      "cell_type": "code",
      "source": [
        "try:\n",
        "\n",
        "  numero = int(input(\"Digite um número: \"))\n",
        "  if numero < 0 :\n",
        "    print(\"O número não pode ser negativo\")\n",
        "except ValueError as ve:\n",
        "  print(\"Você não digitou um número.\")\n",
        "\n",
        "else:\n",
        "\n",
        " if numero%5 == 0:\n",
        "  print('É multiplo')\n",
        " else:\n",
        "  print('não é múltiplo')"
      ],
      "metadata": {
        "id": "egjuKufPBR_v"
      },
      "execution_count": null,
      "outputs": []
    },
    {
      "cell_type": "markdown",
      "source": [
        "EXERCÍCIO 3 - QUAL O MEU LUCRO\n",
        "\n",
        "Temas: Entrada de dados, Operadores matemáticos, Operadores lógicos, Estruturas condicionais, Python, Saída de dados\n",
        "\n",
        "Classificação: Iniciante\n",
        "\n",
        "O que é para fazer:\n",
        "\n",
        "Um lojista comorou diversos produtos para sua loja e deseja revendê-lo com margem de lucro diferente dependendo do valor; por exemplo, ele deseja obter lucro de 45% caso o produto custe menos que R$ 20,00. Porém, caso o produto custe mais que isso, o lucro deve ser de 30%. Escreva um programa em Python que ajude esse lojista.\n",
        "\n",
        "Como Fazer:\n",
        "\n",
        "Crie uma variável para receber o valor do produto;\n",
        "Crie uma condição para verificar a condição solicitada;\n",
        "Dentro da condição, realize o cálculo necessário.\n",
        "Imprima as informações para o usuário."
      ],
      "metadata": {
        "id": "qkMeAqPIBapW"
      }
    },
    {
      "cell_type": "code",
      "source": [
        "############ CALCULAR MARGEM DE LUCRO #############\n",
        "produto = float(input(\"Digite o valor do produto: \"))\n",
        "\n",
        "if produto < 20:\n",
        "  produto = produto * 1.45\n",
        "  print(f\"Para que você tenha lucro 45% deve vender o produdo por: R${produto:.1f}\")\n",
        "else:\n",
        "  produto = produto * 1.3\n",
        "  print(f\"Para que você tenha lucro 30% deve vender o produdo por: R${produto:.1f}\")"
      ],
      "metadata": {
        "id": "qNa86UAGBj_c"
      },
      "execution_count": null,
      "outputs": []
    },
    {
      "cell_type": "markdown",
      "source": [
        "EXERCÍCIO 4 - SOMANDO N NÚMEROS\n",
        "\n",
        "Temas: Entrada de dados, Operadores matemáticos, Estruturas condicionais, Estruturas de repetição, Python, Saída de dados\n",
        "\n",
        "Classificação: Iniciante\n",
        "\n",
        "O que é para fazer:\n",
        "\n",
        "Escreva um programa em Python que some diversos números fornecidos pelo usuário. A quantidade de números que serão somados, também deve ser fornecida pelo usuário.\n",
        "\n",
        "Como Fazer:\n",
        "\n",
        "Crie uma variável para receber a quantidade de números que serão somados a ser fornecida pelo usuário;\n",
        "Crie um laço para percorrer a quantidade de vezes que o usuário informarna variável anterior;\n",
        "Crie as variáveis de número e soma;\n",
        "Realize o cálculo necessário;\n",
        "Imprima a informação para o usuário."
      ],
      "metadata": {
        "id": "x3fjK6boB5X8"
      }
    },
    {
      "cell_type": "code",
      "source": [
        "qtd_numeros = int(input('Digite a quantidade de números que deseja somar: '))\n",
        "\n",
        "somatorio = 0\n",
        "for i in range(qtd_numeros):\n",
        "    try:\n",
        "        numeros = int(input('Digite um número: '))\n",
        "        somatorio += numeros\n",
        "        print(\"Somatório parcial:\", somatorio)\n",
        "    except ValueError:\n",
        "        print(\"Você não digitou um número inteiro. Por favor, tente novamente.\")\n",
        "\n",
        "print(\"Somatório final:\", somatorio)"
      ],
      "metadata": {
        "id": "KzNixPMACClz"
      },
      "execution_count": null,
      "outputs": []
    },
    {
      "cell_type": "markdown",
      "source": [
        "EXERCICIO 5 - ENCONTRE OS DIVISORES MAS NÃO OS NÚMEROS\n",
        "\n",
        "Temas: Operadores matemáticos, Estruturas de repetição, Python, Saída de dados, Entrada de dados, Funções, Listas, Estruturas condicionais\n",
        "\n",
        "Classificação: Intermediário\n",
        "\n",
        "O que é para fazer:\n",
        "\n",
        "Escreva um programa que encontrará todos esses números que são divisíveis por 7, mas não são um múltiplo de 5, entre 2000 e 3200 (ambos incluídos).\n",
        "\n",
        "Como Fazer:\n",
        "\n",
        "Crie uma lista para armazenar os números;\n",
        "Crie um laço para percorrer o processo no intervalo solicitado;\n",
        "Crie uma condição para verificar o que foi solicitado;\n",
        "Adicione os resultados na lista criada anteriormente;\n",
        "Imprima os valores para o usuário."
      ],
      "metadata": {
        "id": "8rmh1Ww5F8al"
      }
    },
    {
      "cell_type": "code",
      "source": [
        "numeros = []\n",
        "n = 2000\n",
        "\n",
        "while n <= 3200:\n",
        "    if n % 7 == 0 and n % 5 != 0:\n",
        "        numeros.append(n)\n",
        "    n +=1\n",
        "print(f'Numeros que são divisiveis por 7  e não são multiplos de 5: {numeros}')"
      ],
      "metadata": {
        "colab": {
          "base_uri": "https://localhost:8080/"
        },
        "id": "FRxKCunVGUFp",
        "outputId": "ea396c3e-644c-44c7-df2e-a4d1b054ffa1"
      },
      "execution_count": null,
      "outputs": [
        {
          "output_type": "stream",
          "name": "stdout",
          "text": [
            "Numeros que são divisiveis por 7  e não são multiplos de 5: [2002, 2009, 2016, 2023, 2037, 2044, 2051, 2058, 2072, 2079, 2086, 2093, 2107, 2114, 2121, 2128, 2142, 2149, 2156, 2163, 2177, 2184, 2191, 2198, 2212, 2219, 2226, 2233, 2247, 2254, 2261, 2268, 2282, 2289, 2296, 2303, 2317, 2324, 2331, 2338, 2352, 2359, 2366, 2373, 2387, 2394, 2401, 2408, 2422, 2429, 2436, 2443, 2457, 2464, 2471, 2478, 2492, 2499, 2506, 2513, 2527, 2534, 2541, 2548, 2562, 2569, 2576, 2583, 2597, 2604, 2611, 2618, 2632, 2639, 2646, 2653, 2667, 2674, 2681, 2688, 2702, 2709, 2716, 2723, 2737, 2744, 2751, 2758, 2772, 2779, 2786, 2793, 2807, 2814, 2821, 2828, 2842, 2849, 2856, 2863, 2877, 2884, 2891, 2898, 2912, 2919, 2926, 2933, 2947, 2954, 2961, 2968, 2982, 2989, 2996, 3003, 3017, 3024, 3031, 3038, 3052, 3059, 3066, 3073, 3087, 3094, 3101, 3108, 3122, 3129, 3136, 3143, 3157, 3164, 3171, 3178, 3192, 3199]\n"
          ]
        }
      ]
    },
    {
      "cell_type": "markdown",
      "source": [
        "EXERCÍCIO 6 - CALCULE O IMC\n",
        "\n",
        "Temas: Estruturas de repetição, Entrada de dados, Saída de dados, Python, Operadores matemáticos\n",
        "\n",
        "Classificação: Intermediário\n",
        "\n",
        "O que é para fazer:\n",
        "\n",
        "Escreva uma programa em Python que peça a quantidade de pacientes e calcule o IMC a partir do nome, peso e altura para cada um deles.\n",
        "\n",
        "Como Fazer:\n",
        "\n",
        "Crie uma variável que vai armazenar o número de pacientes;\n",
        "Crie um for para percorrer a quantidade de pacientes;\n",
        "Crie variáveis para armazenar nome, altura e peso;\n",
        "Crie uma variável para calcular o IMC e faça o cálculo necessário;\n",
        "Imprima os dados na tela."
      ],
      "metadata": {
        "id": "Naumf6QTH6jh"
      }
    },
    {
      "cell_type": "code",
      "source": [
        "n = int(input('Digite a quandidade de pacientes: '))\n",
        "\n",
        "pacientes= {}\n",
        "\n",
        "for i in range(n):\n",
        "    nome = input('digite o nome do paciente: ')\n",
        "    peso = float(input('Digite seu peso: '))\n",
        "    altura = float(input('Digite sua altura: '))\n",
        "    imc = peso / (altura ** 2)\n",
        "\n",
        "    pacientes[nome] = {'Peso': peso,'Altura': altura, 'IMC': imc}\n",
        "\n",
        "print(\"\\n Pacientes relacionados: \")\n",
        "for nome, dados in pacientes.items():\n",
        "    print(f\"Nome: {nome}, Peso: {dados['Peso']} kg, Altura: {dados['Altura']} m, IMC: {dados['IMC']:.2f}\")"
      ],
      "metadata": {
        "id": "WzsYTNleIErA"
      },
      "execution_count": null,
      "outputs": []
    },
    {
      "cell_type": "markdown",
      "source": [
        "**EXERCÍCIO 7 - Isenção de INSS:**\n",
        "O que é para fazer:\n",
        "\n",
        "Escreva um programa em Python que exiba o desconto do INSS segundo seu salário. Por exemplo, se o usuário possuir salário inferior ou igual a R$: 600,00 ele será isento, em caso de maior que R$: 600,00 e menor ou igual a R$:1.200,00, o desconto é de 20%; em caso de Maior que R$: 1.200,00 e menor ou igual a R$: 2.000,00, o desconto é de 25%; e em caso de maior que R$: 2.000,00, o desconto é de 30%.\n",
        "\n",
        "Como Fazer:\n",
        "\n",
        "Crie uma variável para receber o salário do usuário;\n",
        "Crie uma condição para fazer as verificações necessárias;\n",
        "Dentro das verificações, crie a variável que vai armazenar o cálculo do desconto;\n",
        "Imprima o valor do desconto para o usuário."
      ],
      "metadata": {
        "id": "Rgc68awMA2Rl"
      }
    },
    {
      "cell_type": "code",
      "source": [
        "salario = float(input('Digite seu salario: '))\n",
        "\n",
        "if salario <= 600:\n",
        "    print('isento')\n",
        "elif salario <= 1200:\n",
        "    salarioComDescoto = salario - (salario * 0.2)\n",
        "    print(f'Salario com desconto de 20%: {salarioComDescoto}')\n",
        "elif salario <= 2000:\n",
        "    salarioComDescoto = salario - (salario * 0.25)\n",
        "    print(f'Salario com desconto de 25%: {salarioComDescoto}')\n",
        "else:\n",
        "    salarioComDescoto = salario - (salario * 0.30)\n",
        "    print(f'Salario com desconto de 30%: { salarioComDescoto}')\n"
      ],
      "metadata": {
        "id": "GCvcgEw9BDAO"
      },
      "execution_count": null,
      "outputs": []
    },
    {
      "cell_type": "markdown",
      "source": [
        "**EXERCICIO 08 - Maior número!**\n",
        "\n",
        "O que é para fazer:\n",
        "\n",
        "Defina uma função que usa três números como argumentos e retorna o maior deles.\n",
        "\n",
        "Como Fazer:\n",
        "\n",
        "Crie uma função para realizar o cálculo necessário;\n",
        "Dentro da função, realize condições para verificação;\n",
        "Chame a função e imprima o resultado."
      ],
      "metadata": {
        "id": "lPAuvXZ0Mg-5"
      }
    },
    {
      "cell_type": "code",
      "source": [
        "numeros = [20, 10, 30]\n",
        "\n",
        "\n",
        "\n",
        "def encontrar_menor_maior (numeros):\n",
        "    menor = numeros[0]\n",
        "    maior = numeros[0]\n",
        "\n",
        "    for numero in numeros:\n",
        "        if numero < menor:\n",
        "            menor = numero\n",
        "        if numero > maior:\n",
        "            maior = numero\n",
        "    return menor, maior\n",
        "\n",
        "menor, maior = encontrar_menor_maior(numeros)\n",
        "print(f'{menor, maior}')\n",
        "\n"
      ],
      "metadata": {
        "id": "fiIPl43ZMhw9"
      },
      "execution_count": null,
      "outputs": []
    },
    {
      "cell_type": "code",
      "source": [
        "def encontrar_menor_maior(numeros):\n",
        "        # Inicialize as variáveis para armazenar o menor e o maior número\n",
        "        menor = numeros[0]\n",
        "        maior = numeros[0]\n",
        "\n",
        "        # Percorra a lista para comparar cada número com o menor e o maior atual\n",
        "        for numero in numeros:\n",
        "            if numero < menor:\n",
        "                menor = numero\n",
        "            if numero > maior:\n",
        "                maior = numero\n",
        "\n",
        "        # Retorne o menor e o maior número\n",
        "        return menor, maior\n",
        "\n",
        "# Lista de números\n",
        "numeros = [20, 10, 30]\n",
        "\n",
        "# Chame a função para encontrar o menor e o maior número\n",
        "menor, maior = encontrar_menor_maior(numeros)\n",
        "\n",
        "# Imprima o resultado\n",
        "print(\"O menor número na lista é:\", menor)\n",
        "print(\"O maior número na lista é:\", maior)"
      ],
      "metadata": {
        "id": "nLqksAkROt83"
      },
      "execution_count": null,
      "outputs": []
    },
    {
      "cell_type": "markdown",
      "source": [
        "**EXERCICIO 09 - Verifica letras!**\n",
        "\n",
        "O que é para fazer:\n",
        "\n",
        "Escreva uma função que receba uma string e retorne True se for uma vogal e False caso contrário\n",
        "\n",
        "Como Fazer:\n",
        "\n",
        "Crie uma função para realizar o cálculo necessário;\n",
        "Dentro da função, realize condições para verificação;\n",
        "Chame a função e imprima o resultado.\n"
      ],
      "metadata": {
        "id": "nAKGuOnzRSzC"
      }
    },
    {
      "cell_type": "code",
      "source": [
        "string = input('Digite uma letra: ')\n",
        "\n",
        "def exibir(string):\n",
        "    vogais = 'aeiouAEIOU'\n",
        "    if string.isalpha():\n",
        "        if string in vogais:\n",
        "            print('É vogal')\n",
        "        else:\n",
        "            print('consoante')\n",
        "    else:\n",
        "        print('Digite uma letra!')\n",
        "exibir(string)"
      ],
      "metadata": {
        "id": "mFUQMbCGRShE"
      },
      "execution_count": null,
      "outputs": []
    },
    {
      "cell_type": "markdown",
      "source": [
        "EXERCICIO 10 - Exiba fatorial!\n",
        "**negrito**\n",
        "O que é para fazer:\n",
        "\n",
        "Escreva um programa que possa calcular o fatorial de um determinado número. Os resultados devem ser impressos em uma sequência separada por vírgulas em uma única linha. Suponha que a seguinte entrada é fornecida para o programa: 8 Em seguida, a saída deve ser: 40320\n",
        "\n",
        "Como Fazer:\n",
        "\n",
        "Crie uma função para realizar o cálculo necessário;\n",
        "Fora da função, crie uma variável para receber o número do usuário;\n",
        "Chame a função e imprima o resultado."
      ],
      "metadata": {
        "id": "R6FldjmCV_7u"
      }
    },
    {
      "cell_type": "code",
      "source": [
        "n = int(input('Digite um numero: '))\n",
        "\n",
        "def calcFat(n):\n",
        "    fatorial = 0\n",
        "    if n == 0 or n == 1:\n",
        "       fatorial = 1\n",
        "\n",
        "    else:\n",
        "        fatorial =  n * calcFat(n-1)\n",
        "\n",
        "\n",
        "    return fatorial\n",
        "print(calcFat(n))"
      ],
      "metadata": {
        "id": "C9u3as_jWJwx"
      },
      "execution_count": null,
      "outputs": []
    },
    {
      "cell_type": "markdown",
      "source": [
        "**EXERCICIO 11 - Fila de espera.**\n",
        "\n",
        "O que é para fazer:\n",
        "\n",
        "Crie uma fila de espera com os nomes de cinco pessoas e execute as seguintes operações: 1-Imprima na tela a fila atual.\n",
        "\n",
        "2-Remova o primeiro elemento da fila e imprima na tela a fila atualizada.\n",
        "\n",
        "3-Adicione mais dois nomes à fila e imprima na tela a fila atualizada.\n",
        "\n",
        "Como Fazer:\n",
        "\n",
        "Crie uma lista com cinco nomes de pessoas, que representará a fila de espera;\n",
        "Utilize a função print() para imprimir na tela a fila atual;\n",
        "Utilize o método pop(0) para remover o primeiro elemento da lista;\n",
        "Utilize novamente a função print() para imprimir a fila atualizada;\n",
        "Utilize o método append() para adicionar dois novos nomes à lista;\n",
        "Novamente, utilize a função print() para imprimir a fila atualizada."
      ],
      "metadata": {
        "id": "Xfd0c7F6CtF7"
      }
    },
    {
      "cell_type": "code",
      "source": [
        "fila_de_espera = ['Joao', 'maria', 'José', 'Paulo', 'cleiton']\n",
        "\n",
        "print(fila_de_espera)\n",
        "\n",
        "fila_de_espera.pop(0)\n",
        "\n",
        "print(fila_de_espera)\n",
        "\n",
        "fila_de_espera.append('Igor')\n",
        "fila_de_espera.append('Julia')\n",
        "\n",
        "print(fila_de_espera)\n",
        "\n"
      ],
      "metadata": {
        "id": "IcygwZAhD-Ru"
      },
      "execution_count": null,
      "outputs": []
    },
    {
      "cell_type": "markdown",
      "source": [
        "**EXERCICIO 12 - Fusão de listas**\n",
        "\n",
        "\n",
        "O que é para fazer:\n",
        "\n",
        "Crie duas listas de tamanho igual com valores numéricos de sua escolha. Crie uma nova lista que seja a fusão das duas primeiras, de forma que os elementos sejam intercalados. Por fim, imprima a nova lista na tela.\n",
        "\n",
        "Como Fazer:\n",
        "\n",
        "Crie duas listas de tamanho igual com valores numéricos de sua escolha;\n",
        "Crie uma nova lista vazia para armazenar a fusão das duas primeiras;\n",
        "Utilize um laço de repetição para percorrer todos os índices das listas originais;\n",
        "Para cada índice, adicione o elemento da primeira lista na nova lista e, em seguida, adicione o elemento correspondente da segunda lista na nova lista;\n",
        "Se as listas originais possuem tamanhos diferentes, adicione os elementos restantes da lista maior no final da nova lista;\n",
        "Imprima a nova lista na tela."
      ],
      "metadata": {
        "id": "aTLz9K0FIcim"
      }
    },
    {
      "cell_type": "code",
      "source": [
        "lista01 = [10, 20, 30 , 40 , 50, 60, 80]\n",
        "lista02 = [5, 15, 25, 35, 45]\n",
        "lista_nova = []\n",
        "tamanholista01 = len(lista01)\n",
        "tamanholista02 = len(lista02)\n",
        "\n",
        "maior = max(len(lista01), len(lista02))\n",
        "\n",
        "for i in range(maior):\n",
        "    if i<tamanholista01:\n",
        "        lista_nova.append(lista01[i])\n",
        "    if i < tamanholista02:\n",
        "        lista_nova.append(lista02[i])\n",
        "print(lista_nova)"
      ],
      "metadata": {
        "colab": {
          "base_uri": "https://localhost:8080/"
        },
        "id": "Tw3TVCWuIp8u",
        "outputId": "d796f0fb-eea3-4bee-e7eb-f8d729e0079c"
      },
      "execution_count": null,
      "outputs": [
        {
          "output_type": "stream",
          "name": "stdout",
          "text": [
            "[10, 5, 20, 15, 30, 25, 40, 35, 50, 45, 60, 80]\n"
          ]
        }
      ]
    },
    {
      "cell_type": "markdown",
      "source": [
        "EXERCICIO 13 - LISTA\n",
        "O que é para fazer:\n",
        "\n",
        "Crie uma lista com 5 números inteiros de sua escolha e calcule a soma desses valores. Imprima o resultado da soma na tela.\n",
        "\n",
        "Como Fazer:\n",
        "\n",
        "Crie uma lista com 5 números inteiros de sua escolha;\n",
        "Declare uma variável para armazenar a soma dos valores da lista;\n",
        "Utilize um laço de repetição para percorrer todos os elementos da lista e ir somando seus valores na variável criada no passo anterior;\n",
        "Imprima o resultado da soma na tela."
      ],
      "metadata": {
        "id": "Mvd4YyaqpuPR"
      }
    },
    {
      "cell_type": "code",
      "source": [
        "numeros = [10, 15, 20 , 30, 40]\n",
        "soma = 0\n",
        "for numero in numeros:\n",
        "    soma = soma + numero\n",
        "print (soma)"
      ],
      "metadata": {
        "colab": {
          "base_uri": "https://localhost:8080/"
        },
        "id": "XxNsiZDtptrm",
        "outputId": "3cd5395a-ebf5-48b7-d219-a4f47fde3740"
      },
      "execution_count": 1,
      "outputs": [
        {
          "output_type": "stream",
          "name": "stdout",
          "text": [
            "115\n"
          ]
        }
      ]
    },
    {
      "cell_type": "markdown",
      "source": [
        "EXERCÍCIO 14\n",
        "\n",
        "O que é para fazer:\n",
        "\n",
        "Crie uma tupla com 5 elementos e realize as seguintes operações: <ul><li>1-Imprima na tela o tamanho da tupla;</li><li>2-Crie uma nova tupla que contenha os elementos da tupla original em ordem reversa;</li><li>3-Imprima na tela os elementos da nova tupla separados por \"\"-\"\".</li></ul>\n",
        "\n",
        "Como Fazer:\n",
        "\n",
        "Crie uma tupla com 5 elementos de sua escolha;\n",
        "Utilize a função len() para imprimir na tela o tamanho da tupla;\n",
        "Crie uma nova tupla que contenha os elementos da tupla original em ordem reversa, utilizando o fatiamento com parâmetro -1;\n",
        "Utilize o método join() para imprimir na tela os elementos da nova tupla, separados por \"\"-\"\"."
      ],
      "metadata": {
        "id": "UyoSZupPrPtP"
      }
    },
    {
      "cell_type": "code",
      "source": [
        "elementos = (10, 15, 20, 30, 40)\n",
        "print(elementos)\n",
        "print(len(elementos))\n",
        "nova_tupla = elementos[::-1]\n",
        "\n",
        "print(\"Elementos da nova tupla separados por '-':\", \"-\".join(map(str, nova_tupla)))\n",
        "\n"
      ],
      "metadata": {
        "colab": {
          "base_uri": "https://localhost:8080/"
        },
        "id": "bLvbVLbKrSZt",
        "outputId": "4e16ac82-fd4b-47d5-c758-99ed9382ef46"
      },
      "execution_count": 6,
      "outputs": [
        {
          "output_type": "stream",
          "name": "stdout",
          "text": [
            "(10, 15, 20, 30, 40)\n",
            "5\n",
            "Elementos da nova tupla separados por '-': 40-30-20-15-10\n"
          ]
        }
      ]
    },
    {
      "cell_type": "markdown",
      "source": [
        "EXERCÍCIO 15\n",
        "\n",
        "O que é para fazer:\n",
        "\n",
        "Crie uma lista com 6 elementos e utilize o fatiamento para imprimir na tela as seguintes sub-listas: os três primeiros elementos, os três últimos elementos e uma sub-lista com o segundo e o terceiro elemento.\n",
        "\n",
        "Como Fazer:\n",
        "\n",
        "Crie uma lista com 6 elementos de sua escolha.\n",
        "Utilize o fatiamento para imprimir na tela os três primeiros elementos da lista.\n",
        "Utilize o fatiamento para imprimir na tela os três últimos elementos da lista.\n",
        "Utilize o fatiamento para imprimir na tela uma sub-lista com o segundo e o terceiro elementos da lista."
      ],
      "metadata": {
        "id": "jMYxkKmDyN1u"
      }
    },
    {
      "cell_type": "code",
      "source": [
        "lista = [10, 20, 30 , 40, 50, 60]\n",
        "\n",
        "print(lista[:3])\n",
        "print(lista[:-3])\n",
        "\n",
        "sub_lista=[lista[1:3]]\n",
        "\n",
        "print(sub_lista)"
      ],
      "metadata": {
        "colab": {
          "base_uri": "https://localhost:8080/"
        },
        "id": "AT6iIAp0yNUq",
        "outputId": "27d35550-9ca4-4428-9176-d51ceb818fd6"
      },
      "execution_count": 10,
      "outputs": [
        {
          "output_type": "stream",
          "name": "stdout",
          "text": [
            "[10, 20, 30]\n",
            "[10, 20, 30]\n",
            "[[20, 30]]\n"
          ]
        }
      ]
    },
    {
      "cell_type": "markdown",
      "source": [],
      "metadata": {
        "id": "vOTYXobY1ZuE"
      }
    }
  ]
}